{
  "nbformat": 4,
  "nbformat_minor": 0,
  "metadata": {
    "colab": {
      "provenance": [],
      "authorship_tag": "ABX9TyPs5Ek6SKgcMZuprZPnYA/+",
      "include_colab_link": true
    },
    "kernelspec": {
      "name": "python3",
      "display_name": "Python 3"
    },
    "language_info": {
      "name": "python"
    }
  },
  "cells": [
    {
      "cell_type": "markdown",
      "metadata": {
        "id": "view-in-github",
        "colab_type": "text"
      },
      "source": [
        "<a href=\"https://colab.research.google.com/github/Carlos0902661/Carlos0902661/blob/main/Conversion_tempreratura.ipynb\" target=\"_parent\"><img src=\"https://colab.research.google.com/assets/colab-badge.svg\" alt=\"Open In Colab\"/></a>"
      ]
    },
    {
      "cell_type": "code",
      "execution_count": 1,
      "metadata": {
        "colab": {
          "base_uri": "https://localhost:8080/"
        },
        "id": "8tuA-2tdY6c6",
        "outputId": "9de405fb-3d63-4956-cf4c-71bc438fc1e2"
      },
      "outputs": [
        {
          "output_type": "stream",
          "name": "stdout",
          "text": [
            "100.5 grados Fahrenheit es 38.06 grados centigrados \n"
          ]
        }
      ],
      "source": [
        "# Solución\n",
        "cent=round(5/9*(100.5-32),2)\n",
        "print(f\"100.5 grados Fahrenheit es {cent} grados centigrados \")\n"
      ]
    }
  ]
}